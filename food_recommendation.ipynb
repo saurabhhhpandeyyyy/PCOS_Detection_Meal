{
  "nbformat": 4,
  "nbformat_minor": 0,
  "metadata": {
    "colab": {
      "provenance": []
    },
    "kernelspec": {
      "name": "python3",
      "display_name": "Python 3"
    },
    "language_info": {
      "name": "python"
    }
  },
  "cells": [
    {
      "cell_type": "code",
      "execution_count": null,
      "metadata": {
        "colab": {
          "base_uri": "https://localhost:8080/"
        },
        "id": "U42U1L87tdgz",
        "outputId": "8bfb0107-ecb4-4791-af40-89efcb00ccf7"
      },
      "outputs": [
        {
          "output_type": "stream",
          "name": "stdout",
          "text": [
            "Collecting cohere\n",
            "  Downloading cohere-5.11.1-py3-none-any.whl.metadata (3.5 kB)\n",
            "Requirement already satisfied: requests in /usr/local/lib/python3.10/dist-packages (2.32.3)\n",
            "Requirement already satisfied: beautifulsoup4 in /usr/local/lib/python3.10/dist-packages (4.12.3)\n",
            "Requirement already satisfied: lxml in /usr/local/lib/python3.10/dist-packages (4.9.4)\n",
            "Collecting fastavro<2.0.0,>=1.9.4 (from cohere)\n",
            "  Downloading fastavro-1.9.7-cp310-cp310-manylinux_2_17_x86_64.manylinux2014_x86_64.whl.metadata (5.5 kB)\n",
            "Collecting httpx>=0.21.2 (from cohere)\n",
            "  Downloading httpx-0.27.2-py3-none-any.whl.metadata (7.1 kB)\n",
            "Collecting httpx-sse==0.4.0 (from cohere)\n",
            "  Downloading httpx_sse-0.4.0-py3-none-any.whl.metadata (9.0 kB)\n",
            "Collecting parameterized<0.10.0,>=0.9.0 (from cohere)\n",
            "  Downloading parameterized-0.9.0-py2.py3-none-any.whl.metadata (18 kB)\n",
            "Requirement already satisfied: pydantic>=1.9.2 in /usr/local/lib/python3.10/dist-packages (from cohere) (2.9.2)\n",
            "Requirement already satisfied: pydantic-core<3.0.0,>=2.18.2 in /usr/local/lib/python3.10/dist-packages (from cohere) (2.23.4)\n",
            "Requirement already satisfied: tokenizers<1,>=0.15 in /usr/local/lib/python3.10/dist-packages (from cohere) (0.19.1)\n",
            "Collecting types-requests<3.0.0,>=2.0.0 (from cohere)\n",
            "  Downloading types_requests-2.32.0.20241016-py3-none-any.whl.metadata (1.9 kB)\n",
            "Requirement already satisfied: typing_extensions>=4.0.0 in /usr/local/lib/python3.10/dist-packages (from cohere) (4.12.2)\n",
            "Requirement already satisfied: charset-normalizer<4,>=2 in /usr/local/lib/python3.10/dist-packages (from requests) (3.4.0)\n",
            "Requirement already satisfied: idna<4,>=2.5 in /usr/local/lib/python3.10/dist-packages (from requests) (3.10)\n",
            "Requirement already satisfied: urllib3<3,>=1.21.1 in /usr/local/lib/python3.10/dist-packages (from requests) (2.2.3)\n",
            "Requirement already satisfied: certifi>=2017.4.17 in /usr/local/lib/python3.10/dist-packages (from requests) (2024.8.30)\n",
            "Requirement already satisfied: soupsieve>1.2 in /usr/local/lib/python3.10/dist-packages (from beautifulsoup4) (2.6)\n",
            "Requirement already satisfied: anyio in /usr/local/lib/python3.10/dist-packages (from httpx>=0.21.2->cohere) (3.7.1)\n",
            "Collecting httpcore==1.* (from httpx>=0.21.2->cohere)\n",
            "  Downloading httpcore-1.0.6-py3-none-any.whl.metadata (21 kB)\n",
            "Requirement already satisfied: sniffio in /usr/local/lib/python3.10/dist-packages (from httpx>=0.21.2->cohere) (1.3.1)\n",
            "Collecting h11<0.15,>=0.13 (from httpcore==1.*->httpx>=0.21.2->cohere)\n",
            "  Downloading h11-0.14.0-py3-none-any.whl.metadata (8.2 kB)\n",
            "Requirement already satisfied: annotated-types>=0.6.0 in /usr/local/lib/python3.10/dist-packages (from pydantic>=1.9.2->cohere) (0.7.0)\n",
            "Requirement already satisfied: huggingface-hub<1.0,>=0.16.4 in /usr/local/lib/python3.10/dist-packages (from tokenizers<1,>=0.15->cohere) (0.24.7)\n",
            "Requirement already satisfied: filelock in /usr/local/lib/python3.10/dist-packages (from huggingface-hub<1.0,>=0.16.4->tokenizers<1,>=0.15->cohere) (3.16.1)\n",
            "Requirement already satisfied: fsspec>=2023.5.0 in /usr/local/lib/python3.10/dist-packages (from huggingface-hub<1.0,>=0.16.4->tokenizers<1,>=0.15->cohere) (2024.6.1)\n",
            "Requirement already satisfied: packaging>=20.9 in /usr/local/lib/python3.10/dist-packages (from huggingface-hub<1.0,>=0.16.4->tokenizers<1,>=0.15->cohere) (24.1)\n",
            "Requirement already satisfied: pyyaml>=5.1 in /usr/local/lib/python3.10/dist-packages (from huggingface-hub<1.0,>=0.16.4->tokenizers<1,>=0.15->cohere) (6.0.2)\n",
            "Requirement already satisfied: tqdm>=4.42.1 in /usr/local/lib/python3.10/dist-packages (from huggingface-hub<1.0,>=0.16.4->tokenizers<1,>=0.15->cohere) (4.66.5)\n",
            "Requirement already satisfied: exceptiongroup in /usr/local/lib/python3.10/dist-packages (from anyio->httpx>=0.21.2->cohere) (1.2.2)\n",
            "Downloading cohere-5.11.1-py3-none-any.whl (249 kB)\n",
            "\u001b[2K   \u001b[90m━━━━━━━━━━━━━━━━━━━━━━━━━━━━━━━━━━━━━━━━\u001b[0m \u001b[32m249.7/249.7 kB\u001b[0m \u001b[31m6.5 MB/s\u001b[0m eta \u001b[36m0:00:00\u001b[0m\n",
            "\u001b[?25hDownloading httpx_sse-0.4.0-py3-none-any.whl (7.8 kB)\n",
            "Downloading fastavro-1.9.7-cp310-cp310-manylinux_2_17_x86_64.manylinux2014_x86_64.whl (3.1 MB)\n",
            "\u001b[2K   \u001b[90m━━━━━━━━━━━━━━━━━━━━━━━━━━━━━━━━━━━━━━━━\u001b[0m \u001b[32m3.1/3.1 MB\u001b[0m \u001b[31m37.4 MB/s\u001b[0m eta \u001b[36m0:00:00\u001b[0m\n",
            "\u001b[?25hDownloading httpx-0.27.2-py3-none-any.whl (76 kB)\n",
            "\u001b[2K   \u001b[90m━━━━━━━━━━━━━━━━━━━━━━━━━━━━━━━━━━━━━━━━\u001b[0m \u001b[32m76.4/76.4 kB\u001b[0m \u001b[31m5.2 MB/s\u001b[0m eta \u001b[36m0:00:00\u001b[0m\n",
            "\u001b[?25hDownloading httpcore-1.0.6-py3-none-any.whl (78 kB)\n",
            "\u001b[2K   \u001b[90m━━━━━━━━━━━━━━━━━━━━━━━━━━━━━━━━━━━━━━━━\u001b[0m \u001b[32m78.0/78.0 kB\u001b[0m \u001b[31m5.2 MB/s\u001b[0m eta \u001b[36m0:00:00\u001b[0m\n",
            "\u001b[?25hDownloading parameterized-0.9.0-py2.py3-none-any.whl (20 kB)\n",
            "Downloading types_requests-2.32.0.20241016-py3-none-any.whl (15 kB)\n",
            "Downloading h11-0.14.0-py3-none-any.whl (58 kB)\n",
            "\u001b[2K   \u001b[90m━━━━━━━━━━━━━━━━━━━━━━━━━━━━━━━━━━━━━━━━\u001b[0m \u001b[32m58.3/58.3 kB\u001b[0m \u001b[31m3.8 MB/s\u001b[0m eta \u001b[36m0:00:00\u001b[0m\n",
            "\u001b[?25hInstalling collected packages: types-requests, parameterized, httpx-sse, h11, fastavro, httpcore, httpx, cohere\n",
            "Successfully installed cohere-5.11.1 fastavro-1.9.7 h11-0.14.0 httpcore-1.0.6 httpx-0.27.2 httpx-sse-0.4.0 parameterized-0.9.0 types-requests-2.32.0.20241016\n"
          ]
        }
      ],
      "source": [
        "!pip install cohere requests beautifulsoup4 lxml"
      ]
    },
    {
      "cell_type": "code",
      "source": [
        "import cohere\n",
        "import requests\n",
        "import json\n",
        "from bs4 import BeautifulSoup\n",
        "\n",
        "co = cohere.Client(api_key=\"8660B9IAHOrAU4Fma0C9KN0cC6gw9An4tEI2c6aV\")"
      ],
      "metadata": {
        "id": "AGSYS8K6tph4"
      },
      "execution_count": null,
      "outputs": []
    },
    {
      "cell_type": "code",
      "source": [
        "with open('/content/queries.json', 'r') as f:\n",
        "    data = json.load(f)\n",
        "\n",
        "def extract_patient_data(n):\n",
        "    try:\n",
        "        query = data[n]\n",
        "        # Extract relevant fields from the JSON object\n",
        "        patient_context = query[\"profile_context\"]\n",
        "        latest_query = \"\\n\".join([f\"{q['role']}: {q['content']}\" for q in query['latest_query']])\n",
        "        ideal_response = query[\"ideal_response\"]\n",
        "        diet_chart = patient_context[\"diet_chart\"]\n",
        "\n",
        "        # Extract and format notes if available\n",
        "        try:\n",
        "            notes_html = diet_chart.get(\"notes\", \"\")\n",
        "            soup = BeautifulSoup(notes_html, \"lxml\")\n",
        "            formatted_notes = soup.get_text(separator=\"\\n\").strip()\n",
        "            diet_chart[\"notes\"] = formatted_notes\n",
        "        except:\n",
        "            pass\n",
        "\n",
        "        # Collect meal information by day\n",
        "        meals_info = []\n",
        "        meals_by_days = diet_chart.get(\"meals_by_days\", [])\n",
        "        for day in meals_by_days:\n",
        "            day_info = {\"Day\": day['order'], \"Meals\": []}\n",
        "            meals = day.get(\"meals\", [])\n",
        "            for meal in meals:\n",
        "                meal_details = {\n",
        "                    \"Meal ID\": meal['id'],\n",
        "                    \"Meal Name\": meal['name'],\n",
        "                    \"Meal Timings\": meal['timings'],\n",
        "                    \"Meal Options\": []\n",
        "                }\n",
        "                meal_options = meal.get(\"meal_options\", [])\n",
        "                for option in meal_options:\n",
        "                    option_details = {\n",
        "                        \"Option ID\": option['id'],\n",
        "                        \"Option Notes\": option['notes'],\n",
        "                        \"Food Items\": [\n",
        "                            {\n",
        "                                \"Food ID\": food_item['food_id'],\n",
        "                                \"Measure ID\": food_item['food_measure_id']\n",
        "                            }\n",
        "                            for food_item in option.get(\"meal_option_food_items\", [])\n",
        "                        ]\n",
        "                    }\n",
        "                    meal_details[\"Meal Options\"].append(option_details)\n",
        "                day_info[\"Meals\"].append(meal_details)\n",
        "            meals_info.append(day_info)\n",
        "\n",
        "        return {\n",
        "            \"patient_context\": patient_context,\n",
        "            \"latest_query\": latest_query,\n",
        "            \"ideal_response\": ideal_response,\n",
        "            \"diet_chart\": diet_chart,\n",
        "            \"meals_info\": meals_info\n",
        "        }\n",
        "    except Exception as e:\n",
        "        raise e\n"
      ],
      "metadata": {
        "id": "cCYnmgAvtx07"
      },
      "execution_count": null,
      "outputs": []
    },
    {
      "cell_type": "code",
      "source": [
        "def suggest_meal(patient_index, custom_query):\n",
        "    # Extract patient data\n",
        "    patient_data = extract_patient_data(patient_index)\n",
        "\n",
        "    # Construct the input for Cohere model based on the custom query and extracted data\n",
        "    input_text = (\n",
        "        f\"Patient Dietary Information:\\n\"\n",
        "        f\"{patient_data['latest_query']}\\n\\n\"\n",
        "        f\"Dietary Notes:\\n\"\n",
        "        f\"{patient_data['diet_chart'].get('notes', 'No specific notes')}\\n\\n\"\n",
        "        f\"Meals by Day:\\n\"\n",
        "    )\n",
        "    for day in patient_data[\"meals_info\"]:\n",
        "        input_text += f\"\\nDay {day['Day']}:\\n\"\n",
        "        for meal in day[\"Meals\"]:\n",
        "            input_text += f\"  {meal['Meal Name']} at {meal['Meal Timings']}:\\n\"\n",
        "            for option in meal[\"Meal Options\"]:\n",
        "                input_text += f\"    Option Notes: {option['Option Notes']}\\n\"\n",
        "                input_text += \"      Food Items:\\n\"\n",
        "                for food in option[\"Food Items\"]:\n",
        "                    input_text += f\"        Food ID: {food['Food ID']}, Measure ID: {food['Measure ID']}\\n\"\n",
        "\n",
        "    # Append custom query for personalized meal suggestion\n",
        "    prompt = f\"{input_text}\\n\\nUser Query: {custom_query}\\n\\nGenerate a detailed and formatted meal suggestion based on the query and dietary data provided.\"\n",
        "\n",
        "    # Use Cohere API to generate a response\n",
        "    response = co.generate(\n",
        "        model='command-xlarge-nightly',\n",
        "        prompt=prompt,\n",
        "        max_tokens=500,\n",
        "        temperature=0.7,\n",
        "        k=0,\n",
        "        p=0.75,\n",
        "        stop_sequences=[\"--\"]\n",
        "    )\n",
        "\n",
        "    # Clean up and format the output\n",
        "    suggestion_text = response.generations[0].text.strip()\n",
        "\n",
        "    # Print in a clean, formatted style\n",
        "    print(\"Meal Suggestion for PCOS:\\n\")\n",
        "    print(\"High-Protein Breakfast Option for PCOS\\n\")\n",
        "    print(suggestion_text.replace(\"**\", \"\").replace(\"*\", \"\").strip())\n"
      ],
      "metadata": {
        "id": "MF7RmxtBuk16"
      },
      "execution_count": null,
      "outputs": []
    },
    {
      "cell_type": "code",
      "source": [
        "# Get user input for a custom meal query\n",
        "patient_index = 0  # Specify the index of the patient profile\n",
        "custom_query = input(\"Enter your meal-related question: \")\n",
        "\n",
        "# Generate a meal suggestion based on the user's custom query\n",
        "suggest_meal(patient_index, custom_query)"
      ],
      "metadata": {
        "colab": {
          "base_uri": "https://localhost:8080/"
        },
        "id": "Yvnvj9M7wmem",
        "outputId": "a586e470-25d5-4f12-ff5e-45a972fb262c"
      },
      "execution_count": null,
      "outputs": [
        {
          "output_type": "stream",
          "name": "stdout",
          "text": [
            "Enter your meal-related question: What can be a high protein pcos meal?\n",
            "Meal Suggestion for PCOS:\n",
            "\n",
            "High-Protein Breakfast Option for PCOS\n",
            "\n",
            "Here is a high-protein meal suggestion tailored for PCOS, incorporating the dietary notes you provided:\n",
            "\n",
            "Day 1:\n",
            "\n",
            "Early Morning (06:30 AM):\n",
            "- Methi Water: Soak 1 teaspoon of methi seeds in a glass of water overnight, boil in the morning, and strain. This helps reduce bloating and excess water weight.\n",
            "\n",
            "Breakfast (08:30 AM):\n",
            "- Poha with Vegetables: Cook 1 cup of poha with a generous portion of chopped vegetables. You can add onions, carrots, peas, and green chilies.\n",
            "- Milk: Have 1 cup of milk without sugar after 25 minutes.\n",
            "\n",
            "Mid-Meal (11:00 AM):\n",
            "- Apple with Seeds: Enjoy an apple sprinkled with a mix of sunflower, sesame, flax, and pumpkin seeds. These seeds support hormonal balance in PCOS.\n",
            "\n",
            "Lunch (01:30 PM):\n",
            "- Oats Roti: Mix 50% oats atta with 50% regular atta to make rotis.\n",
            "- Vegetable Curry: Prepare a curry with a variety of vegetables like carrots, beans, and spinach.\n",
            "- Curd: Include a bowl of curd for probiotics and gut health.\n",
            "\n",
            "Evening (05:00 PM):\n",
            "- Tea: Have tea, ensuring a 15-20 minute gap before or after the snack to avoid nutrient interference.\n",
            "- Roasted Makhana: A healthy and crunchy snack.\n",
            "\n",
            "Dinner (08:00 PM):\n",
            "- Daliya with Vegetables and Beans: Cook 1 cup of daliya with a good portion of vegetables and boiled beans.\n",
            "\n",
            "Post-Dinner (09:30 PM):\n",
            "- Turmeric Water: Boil 1 glass of water with a pinch of turmeric and drink at room temperature to reduce pain and swelling.\n",
            "\n",
            "Day 2:\n",
            "\n",
            "Early Morning (06:30 AM):\n",
            "- Methi Water: Continue with the methi water routine.\n",
            "\n",
            "Breakfast (08:30 AM):\n",
            "- Multigrain Sandwich: Use 2 slices of multigrain bread and stuff with vegetables like onion, tomato, and capsicum.\n",
            "\n",
            "Mid-Me\n"
          ]
        }
      ]
    },
    {
      "cell_type": "code",
      "source": [
        "# Get user input for a custom meal query\n",
        "patient_index = 0  # Specify the index of the patient profile\n",
        "custom_query = input(\"Enter your meal-related question: \")\n",
        "\n",
        "# Generate a meal suggestion based on the user's custom query\n",
        "suggest_meal(patient_index, custom_query)"
      ],
      "metadata": {
        "colab": {
          "base_uri": "https://localhost:8080/"
        },
        "id": "dN55UZrv_aqB",
        "outputId": "77930506-e80c-423d-f341-676f50348290"
      },
      "execution_count": null,
      "outputs": [
        {
          "output_type": "stream",
          "name": "stdout",
          "text": [
            "Enter your meal-related question: can I eat pizza?\n",
            "Meal Suggestion for PCOS:\n",
            "\n",
            "High-Protein Breakfast Option for PCOS\n",
            "\n",
            "Meal Suggestion:\n",
            "\n",
            "Lunch:\n",
            "- Pizza with a twist:\n",
            "   - Prepare a whole wheat thin crust pizza base.\n",
            "   - Top with a tomato-based sauce, avoiding excessive salt.\n",
            "   - Add a generous amount of green leafy vegetables like spinach, kale, or arugula.\n",
            "   - Sprinkle with a mix of sunflower and pumpkin seeds for a crunchy texture and extra nutrition.\n",
            "   - Use low-fat cheese or a plant-based cheese alternative to reduce saturated fat.\n",
            "   - Bake or grill until the crust is crispy and the cheese is melted.\n",
            "\n",
            "Side Dish:\n",
            "- Fresh Green Salad:\n",
            "   - Combine a variety of green leafy vegetables like lettuce, spinach, and rocket leaves.\n",
            "   - Add sliced cucumber, cherry tomatoes, and bell peppers for extra color and crunch.\n",
            "   - Dress with a simple vinaigrette made with olive oil, balsamic vinegar, and a pinch of salt and pepper.\n",
            "\n",
            "Snack:\n",
            "- Fruit Salad with Seeds:\n",
            "   - Chop your favorite fruits like apples, bananas, and kiwis.\n",
            "   - Sprinkle with a mix of flax and sesame seeds for added nutrition and texture.\n",
            "   - Drizzle with a little honey or maple syrup for a touch of sweetness.\n",
            "\n",
            "Beverage:\n",
            "- Herbal Tea:\n",
            "   - Brew a cup of herbal tea, such as chamomile or peppermint, and enjoy it warm or chilled.\n",
            "   - Avoid adding sugar or sweeteners; instead, add a slice of lemon or a sprig of fresh mint for flavor.\n",
            "\n",
            "Dietary Notes:\n",
            "- Pizza can be a part of a healthy diet when made with whole grains, vegetables, and moderate amounts of cheese.\n",
            "- Focus on using fresh, colorful ingredients and limit the use of processed foods and excessive salt.\n",
            "- Remember to maintain a balanced diet by including a variety of whole grains, lean proteins, and healthy fats throughout the day.\n",
            "- Stay hydrated by drinking plenty of water and herbal teas.\n",
            "- Consult with a healthcare professional or a registered dietitian for personalized dietary advice and to ensure your nutritional needs are being met.\n"
          ]
        }
      ]
    }
  ]
}