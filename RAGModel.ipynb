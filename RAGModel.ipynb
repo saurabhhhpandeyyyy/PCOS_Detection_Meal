{
 "nbformat": 4,
 "nbformat_minor": 0,
 "metadata": {
  "colab": {
   "provenance": [],
   "gpuType": "T4"
  },
  "kernelspec": {
   "name": "python3",
   "display_name": "Python 3"
  },
  "language_info": {
   "name": "python"
  },
  "accelerator": "GPU",
  "widgets": {
   "application/vnd.jupyter.widget-state+json": {
    "ffd0cb62f7c84f8cb20e1843c0a7c2f9": {
     "model_module": "@jupyter-widgets/controls",
     "model_name": "HBoxModel",
     "model_module_version": "1.5.0",
     "state": {
      "_dom_classes": [],
      "_model_module": "@jupyter-widgets/controls",
      "_model_module_version": "1.5.0",
      "_model_name": "HBoxModel",
      "_view_count": null,
      "_view_module": "@jupyter-widgets/controls",
      "_view_module_version": "1.5.0",
      "_view_name": "HBoxView",
      "box_style": "",
      "children": [
       "IPY_MODEL_d6f26e67899045a89ef027db9707d75e",
       "IPY_MODEL_ebdd214c80754384b3339a2592933b68",
       "IPY_MODEL_2c1708ef89814b0886bfb40887dc7278"
      ],
      "layout": "IPY_MODEL_68430cc509c744b8b3ea055dd123ca93"
     }
    },
    "d6f26e67899045a89ef027db9707d75e": {
     "model_module": "@jupyter-widgets/controls",
     "model_name": "HTMLModel",
     "model_module_version": "1.5.0",
     "state": {
      "_dom_classes": [],
      "_model_module": "@jupyter-widgets/controls",
      "_model_module_version": "1.5.0",
      "_model_name": "HTMLModel",
      "_view_count": null,
      "_view_module": "@jupyter-widgets/controls",
      "_view_module_version": "1.5.0",
      "_view_name": "HTMLView",
      "description": "",
      "description_tooltip": null,
      "layout": "IPY_MODEL_6a2c5efd3d074c77a5228717a6cf5dca",
      "placeholder": "​",
      "style": "IPY_MODEL_d66bafef2caa41c7b692e2f59147a237",
      "value": "Batches: 100%"
     }
    },
    "ebdd214c80754384b3339a2592933b68": {
     "model_module": "@jupyter-widgets/controls",
     "model_name": "FloatProgressModel",
     "model_module_version": "1.5.0",
     "state": {
      "_dom_classes": [],
      "_model_module": "@jupyter-widgets/controls",
      "_model_module_version": "1.5.0",
      "_model_name": "FloatProgressModel",
      "_view_count": null,
      "_view_module": "@jupyter-widgets/controls",
      "_view_module_version": "1.5.0",
      "_view_name": "ProgressView",
      "bar_style": "success",
      "description": "",
      "description_tooltip": null,
      "layout": "IPY_MODEL_0f1c7e3fd3c44908a1d2843c38a2b10e",
      "max": 1,
      "min": 0,
      "orientation": "horizontal",
      "style": "IPY_MODEL_8c4c902721a54232bc7301b1253449b5",
      "value": 1
     }
    },
    "2c1708ef89814b0886bfb40887dc7278": {
     "model_module": "@jupyter-widgets/controls",
     "model_name": "HTMLModel",
     "model_module_version": "1.5.0",
     "state": {
      "_dom_classes": [],
      "_model_module": "@jupyter-widgets/controls",
      "_model_module_version": "1.5.0",
      "_model_name": "HTMLModel",
      "_view_count": null,
      "_view_module": "@jupyter-widgets/controls",
      "_view_module_version": "1.5.0",
      "_view_name": "HTMLView",
      "description": "",
      "description_tooltip": null,
      "layout": "IPY_MODEL_abe148c3ed084f9da6101182e61ee185",
      "placeholder": "​",
      "style": "IPY_MODEL_f4627595a5a54ed2856ab5b7bebac645",
      "value": " 1/1 [00:00&lt;00:00, 11.50it/s]"
     }
    },
    "68430cc509c744b8b3ea055dd123ca93": {
     "model_module": "@jupyter-widgets/base",
     "model_name": "LayoutModel",
     "model_module_version": "1.2.0",
     "state": {
      "_model_module": "@jupyter-widgets/base",
      "_model_module_version": "1.2.0",
      "_model_name": "LayoutModel",
      "_view_count": null,
      "_view_module": "@jupyter-widgets/base",
      "_view_module_version": "1.2.0",
      "_view_name": "LayoutView",
      "align_content": null,
      "align_items": null,
      "align_self": null,
      "border": null,
      "bottom": null,
      "display": null,
      "flex": null,
      "flex_flow": null,
      "grid_area": null,
      "grid_auto_columns": null,
      "grid_auto_flow": null,
      "grid_auto_rows": null,
      "grid_column": null,
      "grid_gap": null,
      "grid_row": null,
      "grid_template_areas": null,
      "grid_template_columns": null,
      "grid_template_rows": null,
      "height": null,
      "justify_content": null,
      "justify_items": null,
      "left": null,
      "margin": null,
      "max_height": null,
      "max_width": null,
      "min_height": null,
      "min_width": null,
      "object_fit": null,
      "object_position": null,
      "order": null,
      "overflow": null,
      "overflow_x": null,
      "overflow_y": null,
      "padding": null,
      "right": null,
      "top": null,
      "visibility": null,
      "width": null
     }
    },
    "6a2c5efd3d074c77a5228717a6cf5dca": {
     "model_module": "@jupyter-widgets/base",
     "model_name": "LayoutModel",
     "model_module_version": "1.2.0",
     "state": {
      "_model_module": "@jupyter-widgets/base",
      "_model_module_version": "1.2.0",
      "_model_name": "LayoutModel",
      "_view_count": null,
      "_view_module": "@jupyter-widgets/base",
      "_view_module_version": "1.2.0",
      "_view_name": "LayoutView",
      "align_content": null,
      "align_items": null,
      "align_self": null,
      "border": null,
      "bottom": null,
      "display": null,
      "flex": null,
      "flex_flow": null,
      "grid_area": null,
      "grid_auto_columns": null,
      "grid_auto_flow": null,
      "grid_auto_rows": null,
      "grid_column": null,
      "grid_gap": null,
      "grid_row": null,
      "grid_template_areas": null,
      "grid_template_columns": null,
      "grid_template_rows": null,
      "height": null,
      "justify_content": null,
      "justify_items": null,
      "left": null,
      "margin": null,
      "max_height": null,
      "max_width": null,
      "min_height": null,
      "min_width": null,
      "object_fit": null,
      "object_position": null,
      "order": null,
      "overflow": null,
      "overflow_x": null,
      "overflow_y": null,
      "padding": null,
      "right": null,
      "top": null,
      "visibility": null,
      "width": null
     }
    },
    "d66bafef2caa41c7b692e2f59147a237": {
     "model_module": "@jupyter-widgets/controls",
     "model_name": "DescriptionStyleModel",
     "model_module_version": "1.5.0",
     "state": {
      "_model_module": "@jupyter-widgets/controls",
      "_model_module_version": "1.5.0",
      "_model_name": "DescriptionStyleModel",
      "_view_count": null,
      "_view_module": "@jupyter-widgets/base",
      "_view_module_version": "1.2.0",
      "_view_name": "StyleView",
      "description_width": ""
     }
    },
    "0f1c7e3fd3c44908a1d2843c38a2b10e": {
     "model_module": "@jupyter-widgets/base",
     "model_name": "LayoutModel",
     "model_module_version": "1.2.0",
     "state": {
      "_model_module": "@jupyter-widgets/base",
      "_model_module_version": "1.2.0",
      "_model_name": "LayoutModel",
      "_view_count": null,
      "_view_module": "@jupyter-widgets/base",
      "_view_module_version": "1.2.0",
      "_view_name": "LayoutView",
      "align_content": null,
      "align_items": null,
      "align_self": null,
      "border": null,
      "bottom": null,
      "display": null,
      "flex": null,
      "flex_flow": null,
      "grid_area": null,
      "grid_auto_columns": null,
      "grid_auto_flow": null,
      "grid_auto_rows": null,
      "grid_column": null,
      "grid_gap": null,
      "grid_row": null,
      "grid_template_areas": null,
      "grid_template_columns": null,
      "grid_template_rows": null,
      "height": null,
      "justify_content": null,
      "justify_items": null,
      "left": null,
      "margin": null,
      "max_height": null,
      "max_width": null,
      "min_height": null,
      "min_width": null,
      "object_fit": null,
      "object_position": null,
      "order": null,
      "overflow": null,
      "overflow_x": null,
      "overflow_y": null,
      "padding": null,
      "right": null,
      "top": null,
      "visibility": null,
      "width": null
     }
    },
    "8c4c902721a54232bc7301b1253449b5": {
     "model_module": "@jupyter-widgets/controls",
     "model_name": "ProgressStyleModel",
     "model_module_version": "1.5.0",
     "state": {
      "_model_module": "@jupyter-widgets/controls",
      "_model_module_version": "1.5.0",
      "_model_name": "ProgressStyleModel",
      "_view_count": null,
      "_view_module": "@jupyter-widgets/base",
      "_view_module_version": "1.2.0",
      "_view_name": "StyleView",
      "bar_color": null,
      "description_width": ""
     }
    },
    "abe148c3ed084f9da6101182e61ee185": {
     "model_module": "@jupyter-widgets/base",
     "model_name": "LayoutModel",
     "model_module_version": "1.2.0",
     "state": {
      "_model_module": "@jupyter-widgets/base",
      "_model_module_version": "1.2.0",
      "_model_name": "LayoutModel",
      "_view_count": null,
      "_view_module": "@jupyter-widgets/base",
      "_view_module_version": "1.2.0",
      "_view_name": "LayoutView",
      "align_content": null,
      "align_items": null,
      "align_self": null,
      "border": null,
      "bottom": null,
      "display": null,
      "flex": null,
      "flex_flow": null,
      "grid_area": null,
      "grid_auto_columns": null,
      "grid_auto_flow": null,
      "grid_auto_rows": null,
      "grid_column": null,
      "grid_gap": null,
      "grid_row": null,
      "grid_template_areas": null,
      "grid_template_columns": null,
      "grid_template_rows": null,
      "height": null,
      "justify_content": null,
      "justify_items": null,
      "left": null,
      "margin": null,
      "max_height": null,
      "max_width": null,
      "min_height": null,
      "min_width": null,
      "object_fit": null,
      "object_position": null,
      "order": null,
      "overflow": null,
      "overflow_x": null,
      "overflow_y": null,
      "padding": null,
      "right": null,
      "top": null,
      "visibility": null,
      "width": null
     }
    },
    "f4627595a5a54ed2856ab5b7bebac645": {
     "model_module": "@jupyter-widgets/controls",
     "model_name": "DescriptionStyleModel",
     "model_module_version": "1.5.0",
     "state": {
      "_model_module": "@jupyter-widgets/controls",
      "_model_module_version": "1.5.0",
      "_model_name": "DescriptionStyleModel",
      "_view_count": null,
      "_view_module": "@jupyter-widgets/base",
      "_view_module_version": "1.2.0",
      "_view_name": "StyleView",
      "description_width": ""
     }
    }
   }
  }
 },
 "cells": [
  {
   "cell_type": "code",
   "source": [
    "# Install system packages\n",
    "!apt-get install -y poppler-utils tesseract-ocr\n",
    "\n",
    "# Install Python packages\n",
    "!pip install pdfplumber pdf2image pytesseract pillow"
   ],
   "metadata": {
    "colab": {
     "base_uri": "https://localhost:8080/"
    },
    "id": "WuhKLHE67q9U",
    "outputId": "e535d7df-c70c-4ab1-cae1-a18a855f3e7f"
   },
   "execution_count": 27,
   "outputs": [
    {
     "output_type": "stream",
     "name": "stdout",
     "text": [
      "Reading package lists... Done\n",
      "Building dependency tree... Done\n",
      "Reading state information... Done\n",
      "tesseract-ocr is already the newest version (4.1.1-2.1build1).\n",
      "poppler-utils is already the newest version (22.02.0-2ubuntu0.5).\n",
      "0 upgraded, 0 newly installed, 0 to remove and 49 not upgraded.\n",
      "Requirement already satisfied: pdfplumber in /usr/local/lib/python3.10/dist-packages (0.11.4)\n",
      "Requirement already satisfied: pdf2image in /usr/local/lib/python3.10/dist-packages (1.17.0)\n",
      "Requirement already satisfied: pytesseract in /usr/local/lib/python3.10/dist-packages (0.3.13)\n",
      "Requirement already satisfied: pillow in /usr/local/lib/python3.10/dist-packages (11.0.0)\n",
      "Requirement already satisfied: pdfminer.six==20231228 in /usr/local/lib/python3.10/dist-packages (from pdfplumber) (20231228)\n",
      "Requirement already satisfied: pypdfium2>=4.18.0 in /usr/local/lib/python3.10/dist-packages (from pdfplumber) (4.30.1)\n",
      "Requirement already satisfied: charset-normalizer>=2.0.0 in /usr/local/lib/python3.10/dist-packages (from pdfminer.six==20231228->pdfplumber) (3.4.0)\n",
      "Requirement already satisfied: cryptography>=36.0.0 in /usr/local/lib/python3.10/dist-packages (from pdfminer.six==20231228->pdfplumber) (43.0.3)\n",
      "Requirement already satisfied: packaging>=21.3 in /usr/local/lib/python3.10/dist-packages (from pytesseract) (24.2)\n",
      "Requirement already satisfied: cffi>=1.12 in /usr/local/lib/python3.10/dist-packages (from cryptography>=36.0.0->pdfminer.six==20231228->pdfplumber) (1.17.1)\n",
      "Requirement already satisfied: pycparser in /usr/local/lib/python3.10/dist-packages (from cffi>=1.12->cryptography>=36.0.0->pdfminer.six==20231228->pdfplumber) (2.22)\n"
     ]
    }
   ]
  },
  {
   "cell_type": "code",
   "source": [
    "import pdfplumber\n",
    "import re\n",
    "from pdf2image import convert_from_path\n",
    "from PIL import Image\n",
    "import pytesseract"
   ],
   "metadata": {
    "id": "23Tz6ZmL7qzA"
   },
   "execution_count": 28,
   "outputs": []
  },
  {
   "cell_type": "code",
   "source": [
    "pytesseract.pytesseract.tesseract_cmd = '/usr/bin/tesseract'"
   ],
   "metadata": {
    "id": "SWemIRsz7qk1"
   },
   "execution_count": 29,
   "outputs": []
  },
  {
   "cell_type": "code",
   "source": [
    "def extract_text_from_pdf(file_path):\n",
    "    text = \"\"\n",
    "    with pdfplumber.open(file_path) as pdf:\n",
    "        for page in pdf.pages:\n",
    "            # Extract text using pdfplumber\n",
    "            page_text = page.extract_text()\n",
    "            if page_text:\n",
    "                text += page_text\n",
    "            # Convert PDF page to image\n",
    "            image = page.to_image()\n",
    "            # Perform OCR on the image\n",
    "            ocr_text = pytesseract.image_to_string(image.original)\n",
    "            text += ocr_text\n",
    "    # Clean the text\n",
    "    text = re.sub(r'\\s+', ' ', text)\n",
    "    return text\n"
   ],
   "metadata": {
    "id": "pS0xKpX871rz"
   },
   "execution_count": 30,
   "outputs": []
  },
  {
   "cell_type": "code",
   "source": [
    "# def extract_images_from_pdf(file_path, output_folder):\n",
    "#     with pdfplumber.open(file_path) as pdf:\n",
    "#         for i, page in enumerate(pdf.pages):\n",
    "#             for j, image in enumerate(page.images):\n",
    "#                 # Extract image bytes\n",
    "#                 image_bytes = page.within_bbox((image['x0'], image['top'], image['x1'], image['bottom'])).to_image()\n",
    "#                 # Save image\n",
    "#                 image_path = f\"{output_folder}/page_{i+1}_image_{j+1}.png\"\n",
    "#                 image_bytes.save(image_path)\n",
    "\n",
    "def extract_images_from_pdf(file_path, output_folder):\n",
    "    with pdfplumber.open(file_path) as pdf:\n",
    "        for i, page in enumerate(pdf.pages):\n",
    "            for j, image in enumerate(page.images):\n",
    "                # Get page boundaries\n",
    "                page_width = page.width\n",
    "                page_height = page.height\n",
    "\n",
    "                # Clamp image coordinates to page boundaries\n",
    "                x0 = max(0, int(image['x0']))\n",
    "                top = max(0, int(image['top']))\n",
    "                x1 = min(page_width, int(image['x1']))\n",
    "                bottom = min(page_height, int(image['bottom']))\n",
    "\n",
    "                # Extract image bytes\n",
    "                image_bytes = page.within_bbox((x0, top, x1, bottom)).to_image()\n",
    "\n",
    "                # Save image\n",
    "                image_path = f\"{output_folder}/page_{i+1}_image_{j+1}.png\"\n",
    "                image_bytes.save(image_path)"
   ],
   "metadata": {
    "id": "lH81buIn71pU"
   },
   "execution_count": 31,
   "outputs": []
  },
  {
   "cell_type": "code",
   "source": [
    "file_path = \"/content/pcos-dietary-advice_nov22.pdf\"\n",
    "output_folder = \"/content/extracted_images\""
   ],
   "metadata": {
    "id": "3ZUd3Iif71nA"
   },
   "execution_count": 32,
   "outputs": []
  },
  {
   "cell_type": "code",
   "source": [
    "import os\n",
    "\n",
    "if not os.path.exists(output_folder):\n",
    "    os.makedirs(output_folder)\n"
   ],
   "metadata": {
    "id": "CrnYEltZ71lO"
   },
   "execution_count": 33,
   "outputs": []
  },
  {
   "cell_type": "code",
   "source": [
    "# Extract and clean text\n",
    "document_text = extract_text_from_pdf(file_path)\n",
    "\n",
    "# Extract images\n",
    "extract_images_from_pdf(file_path, output_folder)"
   ],
   "metadata": {
    "id": "lSGQodva71av"
   },
   "execution_count": 34,
   "outputs": []
  },
  {
   "cell_type": "code",
   "source": [
    "# cell 9\n",
    "def chunk_text_sliding_window(text, chunk_size=500, overlap=100):\n",
    "    words = text.split()\n",
    "    chunks = []\n",
    "    for i in range(0, len(words), chunk_size - overlap):\n",
    "        chunk = ' '.join(words[i:i + chunk_size])\n",
    "        chunks.append(chunk)\n",
    "    return chunks\n"
   ],
   "metadata": {
    "id": "RreO1dXA8JsQ"
   },
   "execution_count": 35,
   "outputs": []
  },
  {
   "cell_type": "code",
   "source": [
    "chunks = chunk_text_sliding_window(document_text)\n"
   ],
   "metadata": {
    "id": "6yPGLnM48JyQ"
   },
   "execution_count": 36,
   "outputs": []
  },
  {
   "cell_type": "code",
   "source": [
    "#cell 11\n",
    "from sentence_transformers import SentenceTransformer\n",
    "\n",
    "embedding_model = SentenceTransformer(\"all-MiniLM-L6-v2\")\n",
    "embeddings = embedding_model.encode(chunks, show_progress_bar=True)\n"
   ],
   "metadata": {
    "colab": {
     "base_uri": "https://localhost:8080/",
     "height": 49,
     "referenced_widgets": [
      "ffd0cb62f7c84f8cb20e1843c0a7c2f9",
      "d6f26e67899045a89ef027db9707d75e",
      "ebdd214c80754384b3339a2592933b68",
      "2c1708ef89814b0886bfb40887dc7278",
      "68430cc509c744b8b3ea055dd123ca93",
      "6a2c5efd3d074c77a5228717a6cf5dca",
      "d66bafef2caa41c7b692e2f59147a237",
      "0f1c7e3fd3c44908a1d2843c38a2b10e",
      "8c4c902721a54232bc7301b1253449b5",
      "abe148c3ed084f9da6101182e61ee185",
      "f4627595a5a54ed2856ab5b7bebac645"
     ]
    },
    "id": "QG2fSiVO8Wkx",
    "outputId": "eef4999e-b0ef-474f-a8e5-8dfc547a3edd"
   },
   "execution_count": 37,
   "outputs": [
    {
     "output_type": "display_data",
     "data": {
      "text/plain": [
       "Batches:   0%|          | 0/1 [00:00<?, ?it/s]"
      ],
      "application/vnd.jupyter.widget-view+json": {
       "version_major": 2,
       "version_minor": 0,
       "model_id": "ffd0cb62f7c84f8cb20e1843c0a7c2f9"
      }
     },
     "metadata": {}
    }
   ]
  },
  {
   "cell_type": "code",
   "source": [
    "!pip install faiss-cpu"
   ],
   "metadata": {
    "id": "kE0OnUh8h3-Y",
    "colab": {
     "base_uri": "https://localhost:8080/"
    },
    "outputId": "87d418cc-5d87-447e-9397-45dee72bcc71"
   },
   "execution_count": 38,
   "outputs": [
    {
     "output_type": "stream",
     "name": "stdout",
     "text": [
      "Requirement already satisfied: faiss-cpu in /usr/local/lib/python3.10/dist-packages (1.9.0.post1)\n",
      "Requirement already satisfied: numpy<3.0,>=1.25.0 in /usr/local/lib/python3.10/dist-packages (from faiss-cpu) (1.26.4)\n",
      "Requirement already satisfied: packaging in /usr/local/lib/python3.10/dist-packages (from faiss-cpu) (24.2)\n"
     ]
    }
   ]
  },
  {
   "cell_type": "code",
   "source": [
    "#cell 13\n",
    "import faiss\n",
    "import numpy as np\n",
    "\n",
    "dimension = embeddings.shape[1]\n",
    "index = faiss.IndexFlatL2(dimension)\n",
    "index.add(np.array(embeddings))\n"
   ],
   "metadata": {
    "id": "khzdBIAE8J1K"
   },
   "execution_count": 39,
   "outputs": []
  },
  {
   "cell_type": "code",
   "source": [
    "!pip install cohere"
   ],
   "metadata": {
    "id": "NkrsMTqPi5ow",
    "outputId": "9e7ce31e-96df-40a7-e1ee-368f475f5771",
    "colab": {
     "base_uri": "https://localhost:8080/"
    }
   },
   "execution_count": 40,
   "outputs": [
    {
     "output_type": "stream",
     "name": "stdout",
     "text": [
      "Requirement already satisfied: cohere in /usr/local/lib/python3.10/dist-packages (5.13.4)\n",
      "Requirement already satisfied: fastavro<2.0.0,>=1.9.4 in /usr/local/lib/python3.10/dist-packages (from cohere) (1.10.0)\n",
      "Requirement already satisfied: httpx>=0.21.2 in /usr/local/lib/python3.10/dist-packages (from cohere) (0.28.1)\n",
      "Requirement already satisfied: httpx-sse==0.4.0 in /usr/local/lib/python3.10/dist-packages (from cohere) (0.4.0)\n",
      "Requirement already satisfied: parameterized<0.10.0,>=0.9.0 in /usr/local/lib/python3.10/dist-packages (from cohere) (0.9.0)\n",
      "Requirement already satisfied: pydantic>=1.9.2 in /usr/local/lib/python3.10/dist-packages (from cohere) (2.10.3)\n",
      "Requirement already satisfied: pydantic-core<3.0.0,>=2.18.2 in /usr/local/lib/python3.10/dist-packages (from cohere) (2.27.1)\n",
      "Requirement already satisfied: requests<3.0.0,>=2.0.0 in /usr/local/lib/python3.10/dist-packages (from cohere) (2.32.3)\n",
      "Requirement already satisfied: tokenizers<1,>=0.15 in /usr/local/lib/python3.10/dist-packages (from cohere) (0.21.0)\n",
      "Requirement already satisfied: types-requests<3.0.0,>=2.0.0 in /usr/local/lib/python3.10/dist-packages (from cohere) (2.32.0.20241016)\n",
      "Requirement already satisfied: typing_extensions>=4.0.0 in /usr/local/lib/python3.10/dist-packages (from cohere) (4.12.2)\n",
      "Requirement already satisfied: anyio in /usr/local/lib/python3.10/dist-packages (from httpx>=0.21.2->cohere) (3.7.1)\n",
      "Requirement already satisfied: certifi in /usr/local/lib/python3.10/dist-packages (from httpx>=0.21.2->cohere) (2024.12.14)\n",
      "Requirement already satisfied: httpcore==1.* in /usr/local/lib/python3.10/dist-packages (from httpx>=0.21.2->cohere) (1.0.7)\n",
      "Requirement already satisfied: idna in /usr/local/lib/python3.10/dist-packages (from httpx>=0.21.2->cohere) (3.10)\n",
      "Requirement already satisfied: h11<0.15,>=0.13 in /usr/local/lib/python3.10/dist-packages (from httpcore==1.*->httpx>=0.21.2->cohere) (0.14.0)\n",
      "Requirement already satisfied: annotated-types>=0.6.0 in /usr/local/lib/python3.10/dist-packages (from pydantic>=1.9.2->cohere) (0.7.0)\n",
      "Requirement already satisfied: charset-normalizer<4,>=2 in /usr/local/lib/python3.10/dist-packages (from requests<3.0.0,>=2.0.0->cohere) (3.4.0)\n",
      "Requirement already satisfied: urllib3<3,>=1.21.1 in /usr/local/lib/python3.10/dist-packages (from requests<3.0.0,>=2.0.0->cohere) (2.2.3)\n",
      "Requirement already satisfied: huggingface-hub<1.0,>=0.16.4 in /usr/local/lib/python3.10/dist-packages (from tokenizers<1,>=0.15->cohere) (0.27.0)\n",
      "Requirement already satisfied: filelock in /usr/local/lib/python3.10/dist-packages (from huggingface-hub<1.0,>=0.16.4->tokenizers<1,>=0.15->cohere) (3.16.1)\n",
      "Requirement already satisfied: fsspec>=2023.5.0 in /usr/local/lib/python3.10/dist-packages (from huggingface-hub<1.0,>=0.16.4->tokenizers<1,>=0.15->cohere) (2024.10.0)\n",
      "Requirement already satisfied: packaging>=20.9 in /usr/local/lib/python3.10/dist-packages (from huggingface-hub<1.0,>=0.16.4->tokenizers<1,>=0.15->cohere) (24.2)\n",
      "Requirement already satisfied: pyyaml>=5.1 in /usr/local/lib/python3.10/dist-packages (from huggingface-hub<1.0,>=0.16.4->tokenizers<1,>=0.15->cohere) (6.0.2)\n",
      "Requirement already satisfied: tqdm>=4.42.1 in /usr/local/lib/python3.10/dist-packages (from huggingface-hub<1.0,>=0.16.4->tokenizers<1,>=0.15->cohere) (4.67.1)\n",
      "Requirement already satisfied: sniffio>=1.1 in /usr/local/lib/python3.10/dist-packages (from anyio->httpx>=0.21.2->cohere) (1.3.1)\n",
      "Requirement already satisfied: exceptiongroup in /usr/local/lib/python3.10/dist-packages (from anyio->httpx>=0.21.2->cohere) (1.2.2)\n"
     ]
    }
   ]
  },
  {
   "cell_type": "code",
   "source": [
    "import cohere\n",
    "\n",
    "cohere_client = cohere.Client('Your-api-key')  # Replace with your actual API key\n"
   ],
   "metadata": {
    "id": "sVl4wyUW8J6Y"
   },
   "execution_count": 41,
   "outputs": []
  },
  {
   "cell_type": "code",
   "source": [
    "#cell 16\n",
    "def retrieve_relevant_chunks(query, top_k=5):\n",
    "    query_embedding = embedding_model.encode([query])\n",
    "    distances, indices = index.search(np.array(query_embedding), top_k)\n",
    "    return [chunks[i] for i in indices[0]]\n",
    "\n",
    "def generate_answer(query):\n",
    "    relevant_chunks = retrieve_relevant_chunks(query)\n",
    "    context = \" \".join(relevant_chunks)\n",
    "    prompt = f\"Context: {context}\\n\\nQuestion: {query}\\n\\nAnswer:\"\n",
    "    response = cohere_client.generate(\n",
    "        model=\"command-xlarge-nightly\",\n",
    "        prompt=prompt,\n",
    "        max_tokens=300,\n",
    "        temperature=0.3\n",
    "    )\n",
    "    return response.generations[0].text.strip()\n"
   ],
   "metadata": {
    "id": "vkceyLAY8qPl"
   },
   "execution_count": 42,
   "outputs": []
  },
  {
   "cell_type": "code",
   "source": [
    "query = \"What are the meals that i need to take on Monday ?\"\n",
    "answer = generate_answer(query)\n",
    "print(answer)\n"
   ],
   "metadata": {
    "colab": {
     "base_uri": "https://localhost:8080/"
    },
    "id": "xKxySQnH8J_8",
    "outputId": "6ea09d27-18d6-4437-9fcf-0078962e5c05"
   },
   "execution_count": 43,
   "outputs": [
    {
     "output_type": "stream",
     "name": "stdout",
     "text": [
      "I don't have specific information about meals for Monday, but I can provide you with some general dietary guidelines and meal ideas for people with PCOS.\n",
      "\n",
      "- **Breads, cereals, grains, and starchy vegetables:** Each serving should contain 15 grams of carbohydrates and about 80-100 calories. Examples include a medium slice of bread, a small baked potato, a roll, uncooked pasta, oats, corn on the cob, crackers, rice cakes, etc.\n",
      "\n",
      "- **Fruits:** Aim for two portions of fruit per day. A portion is one handful or approximately 80g, containing 15g of carbohydrates and 60-20 calories.\n",
      "\n",
      "- **Dairy:** Aim for three portions per day to meet your calcium requirements, which are increased in PCOS. A portion could be a 200ml glass of milk, 125g of yogurt, or a matchbox-sized piece of cheese (25g).\n",
      "\n",
      "- **Meal ideas to reduce the Glycemic Index (GI):**\n",
      "   - Add beans, pulses, or extra vegetables to meals.\n",
      "   - Include lean proteins and healthy fats to balance the meal.\n",
      "   - Switch to wholegrain/wholewheat breads, pastas, and cereals (e.g., granary, sourdough, or pumpernickel).\n",
      "   - Use bulgur wheat, quinoa, or wild rice instead of\n"
     ]
    }
   ]
  },
  {
   "cell_type": "code",
   "source": [
    "query = \"Who is the ceo?\"\n",
    "answer = generate_answer(query)\n",
    "print(answer)\n"
   ],
   "metadata": {
    "colab": {
     "base_uri": "https://localhost:8080/"
    },
    "id": "o28ItIjj8sYi",
    "outputId": "f1058f3f-b33f-4ed4-ed4d-abb5a0f0b09d"
   },
   "execution_count": 44,
   "outputs": [
    {
     "output_type": "stream",
     "name": "stdout",
     "text": [
      "I'm sorry, but the text does not provide any information about the CEO.\n"
     ]
    }
   ]
  },
  {
   "cell_type": "code",
   "source": [
    "query = \"Which year's report is this?\"\n",
    "answer = generate_answer(query)\n",
    "print(answer)"
   ],
   "metadata": {
    "colab": {
     "base_uri": "https://localhost:8080/"
    },
    "id": "whEpUkia8sbO",
    "outputId": "a8e720d0-a35d-4c61-a9a1-db291245794f"
   },
   "execution_count": 45,
   "outputs": [
    {
     "output_type": "stream",
     "name": "stdout",
     "text": [
      "The report is from November 2022.\n"
     ]
    }
   ]
  },
  {
   "cell_type": "code",
   "source": [
    "query = \"Give description of the company's financial perfomance?\"\n",
    "answer = generate_answer(query)\n",
    "print(answer)"
   ],
   "metadata": {
    "colab": {
     "base_uri": "https://localhost:8080/"
    },
    "id": "pFFF2oGm_WJY",
    "outputId": "4c3f3cac-80a7-4780-e186-de039978313e"
   },
   "execution_count": 46,
   "outputs": [
    {
     "output_type": "stream",
     "name": "stdout",
     "text": [
      "The text provided does not contain any information about a company's financial performance. It is a dietary advice leaflet for women with Polycystic Ovary Syndrome (PCOS), which is a common disorder affecting ovarian function in pre-menopausal women. The leaflet offers guidance on managing PCOS symptoms through diet and lifestyle changes, including information on portion sizes, the Glycaemic Index, and recommended books and websites for further reading.\n"
     ]
    }
   ]
  },
  {
   "cell_type": "code",
   "source": [
    "query = \" Company's initiatives towards supporting the communities?\"\n",
    "answer = generate_answer(query)\n",
    "print(answer)"
   ],
   "metadata": {
    "colab": {
     "base_uri": "https://localhost:8080/"
    },
    "id": "R0Ujbw2bAf9c",
    "outputId": "76694d2f-f5fd-4f06-e51f-e3fd8e9a7e43"
   },
   "execution_count": 47,
   "outputs": [
    {
     "output_type": "stream",
     "name": "stdout",
     "text": [
      "It looks like the text you provided does not contain any information about a company's initiatives towards supporting the communities. The text is a leaflet about Polycystic Ovary Syndrome (PCOS) and provides dietary and lifestyle advice for managing its symptoms. It includes information about the condition, tips to improve insulin resistance, and recommendations for sleeping well. The leaflet also mentions medications that can be used to treat PCOS symptoms and provides a list of helpful resources and references.\n"
     ]
    }
   ]
  },
  {
   "cell_type": "code",
   "source": [
    "query = \"What is the Company's share price?\"\n",
    "answer = generate_answer(query)\n",
    "print(answer)"
   ],
   "metadata": {
    "colab": {
     "base_uri": "https://localhost:8080/"
    },
    "id": "PQsFodEnBKl6",
    "outputId": "554e1241-46c0-46c6-d6f6-8606d62d24e5"
   },
   "execution_count": 48,
   "outputs": [
    {
     "output_type": "stream",
     "name": "stdout",
     "text": [
      "I'm sorry, but I cannot answer your question. The text provided does not contain any information about a company's share price. It is a leaflet that offers dietary and lifestyle advice for managing the symptoms of Polycystic Ovary Syndrome (PCOS).\n"
     ]
    }
   ]
  },
  {
   "cell_type": "code",
   "source": [
    "query = \"What are some of the struck off companies?\"\n",
    "answer = generate_answer(query)\n",
    "print(answer)"
   ],
   "metadata": {
    "colab": {
     "base_uri": "https://localhost:8080/"
    },
    "id": "2O1FrVjkBqa8",
    "outputId": "60aa09df-dac2-4a6e-8368-e5122084b211"
   },
   "execution_count": 49,
   "outputs": [
    {
     "output_type": "stream",
     "name": "stdout",
     "text": [
      "I'm sorry, but the provided text does not contain any information about struck-off companies. It is a document containing dietary advice for people with Polycystic Ovary Syndrome (PCOS), including information on portion sizes, the Glycaemic Index, exercise, sleep, and specific diets for PCOS.\n"
     ]
    }
   ]
  },
  {
   "cell_type": "code",
   "source": [
    "query = \"what is Panatone Finvest Limited's relation to tata communications?\"\n",
    "answer = generate_answer(query)\n",
    "print(answer)"
   ],
   "metadata": {
    "colab": {
     "base_uri": "https://localhost:8080/"
    },
    "id": "sy9dHlx5DEK9",
    "outputId": "e41f0a70-1553-4c50-ef53-40f52f76619a"
   },
   "execution_count": 50,
   "outputs": [
    {
     "output_type": "stream",
     "name": "stdout",
     "text": [
      "The text does not mention Panatone Finvest Limited or tata communications.\n"
     ]
    }
   ]
  },
  {
   "cell_type": "code",
   "source": [
    "#cell 25\n",
    "import networkx as nx\n",
    "from sklearn.metrics.pairwise import cosine_similarity\n",
    "import numpy as np\n",
    "import matplotlib.pyplot as plt\n",
    "def create_similarity_graph(chunks, embeddings, similarity_threshold=0.7):\n",
    "    \"\"\"\n",
    "    Create a similarity graph where nodes are chunks of text and edges represent similarity.\n",
    "\n",
    "    Parameters:\n",
    "        chunks (list): List of text chunks.\n",
    "        embeddings (np.ndarray): Corresponding embeddings for the chunks.\n",
    "        similarity_threshold (float): Minimum similarity score to create an edge.\n",
    "\n",
    "    Returns:\n",
    "        nx.Graph: A graph with chunks as nodes and similarity-based edges.\n",
    "    \"\"\"\n",
    "    G = nx.Graph()\n",
    "\n",
    "    # Add nodes to the graph\n",
    "    for i, chunk in enumerate(chunks):\n",
    "        G.add_node(i, text=chunk)\n",
    "\n",
    "    # Compute cosine similarity and add edges\n",
    "    similarity_matrix = cosine_similarity(embeddings)\n",
    "    for i in range(len(similarity_matrix)):\n",
    "        for j in range(i + 1, len(similarity_matrix)):\n",
    "            if similarity_matrix[i, j] >= similarity_threshold:\n",
    "                G.add_edge(i, j, weight=similarity_matrix[i, j])\n",
    "\n",
    "    return G\n"
   ],
   "metadata": {
    "id": "sHuKRb2wjdbM"
   },
   "execution_count": 51,
   "outputs": []
  },
  {
   "cell_type": "code",
   "source": [
    "# Create a similarity graph for the text chunks\n",
    "similarity_graph = create_similarity_graph(chunks, np.array(embeddings))\n"
   ],
   "metadata": {
    "id": "bzLe5vd8gAY9"
   },
   "execution_count": 52,
   "outputs": []
  },
  {
   "cell_type": "code",
   "source": [
    "#cell 27\n",
    "def retrieve_relevant_chunks_graph(query, graph, embeddings, top_k=5):\n",
    "    \"\"\"\n",
    "    Retrieve relevant chunks using the graph structure and query embedding.\n",
    "\n",
    "    Parameters:\n",
    "        query (str): The input query.\n",
    "        graph (nx.Graph): The similarity graph.\n",
    "        embeddings (np.ndarray): Embeddings of the text chunks.\n",
    "        top_k (int): Number of top chunks to retrieve.\n",
    "\n",
    "    Returns:\n",
    "        list: List of relevant text chunks.\n",
    "    \"\"\"\n",
    "    query_embedding = embedding_model.encode([query])[0]\n",
    "    similarity_scores = cosine_similarity([query_embedding], embeddings)[0]\n",
    "\n",
    "    # Find the most similar nodes\n",
    "    similar_nodes = np.argsort(similarity_scores)[::-1][:top_k]\n",
    "    relevant_chunks = [graph.nodes[node]['text'] for node in similar_nodes]\n",
    "\n",
    "    return relevant_chunks\n"
   ],
   "metadata": {
    "id": "86oOvwP1gA9w"
   },
   "execution_count": 53,
   "outputs": []
  },
  {
   "cell_type": "code",
   "source": [
    "#cell 28\n",
    "def generate_answer_with_rag(query, graph, embeddings):\n",
    "    \"\"\"\n",
    "    Generate an answer using GraphRAG.\n",
    "\n",
    "    Parameters:\n",
    "        query (str): The input query.\n",
    "        graph (nx.Graph): The similarity graph.\n",
    "        embeddings (np.ndarray): Embeddings of the text chunks.\n",
    "\n",
    "    Returns:\n",
    "        str: The generated answer.\n",
    "    \"\"\"\n",
    "    relevant_chunks = retrieve_relevant_chunks_graph(query, graph, embeddings)\n",
    "    context = \" \".join(relevant_chunks)\n",
    "    prompt = f\"Context: {context}\\n\\nQuestion: {query}\\n\\nAnswer:\"\n",
    "    response = cohere_client.generate(\n",
    "        model=\"command-xlarge-nightly\",\n",
    "        prompt=prompt,\n",
    "        max_tokens=500,\n",
    "        temperature=0.3\n",
    "    )\n",
    "    return response.generations[0].text.strip()\n"
   ],
   "metadata": {
    "id": "os1aEJyngCtU"
   },
   "execution_count": 54,
   "outputs": []
  },
  {
   "cell_type": "code",
   "source": [
    "query = \"What are the meals that i need to take on a given week ?\"\n",
    "answer = generate_answer_with_rag(query, similarity_graph, np.array(embeddings))\n",
    "print(\"Query:\", query)\n",
    "print(\"Answer:\", answer)\n"
   ],
   "metadata": {
    "id": "QVgFMrzmgD7u",
    "outputId": "5188ea92-82c6-435d-d640-9d87f961884d",
    "colab": {
     "base_uri": "https://localhost:8080/"
    }
   },
   "execution_count": 60,
   "outputs": [
    {
     "output_type": "stream",
     "name": "stdout",
     "text": [
      "Query: What are the meals that i need to take on a given week ?\n",
      "Answer: The text does not specify a particular meal plan for a given week, but it does provide general dietary advice and guidelines for individuals with Polycystic Ovary Syndrome (PCOS). The document emphasizes the importance of a balanced diet that includes a variety of foods from different food groups.\n",
      "\n",
      "Here are some key points from the text regarding meal choices:\n",
      "\n",
      "- Breads, cereals, grains, and starchy vegetables: Each serving listed contains 15 grams of carbohydrates and about 80-100 calories. Examples include a medium slice of bread, a small baked potato, a roll, uncooked pasta, cooked pasta, couscous, rice, and more.\n",
      "\n",
      "- Fruits: Aim for two portions of fruit per day. A portion is one handful or approximately 80g, containing 15g of carbohydrates and 60-20 calories.\n",
      "\n",
      "- Dairy: Aim for three portions per day to meet calcium requirements, which are increased in PCOS. Examples include 200ml of milk, 125g of yogurt, or a matchbox-sized piece of cheese (25g).\n",
      "\n",
      "- Omega 3 fatty acids: Include dietary sources of Omega 3 as part of a healthy diet, such as oily fish (salmon, mackerel, sardines), nuts, and seeds.\n",
      "\n",
      "- Calcium and Vitamin D: Due to lower estrogen levels in PCOS, individuals may be more prone to losing calcium from their bones. It is recommended to have three portions of dairy products or calcium-fortified dairy-free alternatives per day. Vitamin D supplements are also suggested, especially during autumn and winter.\n",
      "\n",
      "- Iron: Include lean red meat, fortified wholegrain breakfast cereals, and dark green vegetables regularly to maintain iron levels, as heavy menstrual losses in PCOS can lead to low iron levels.\n",
      "\n",
      "The text also mentions the importance of considering the Glycemic Index (GI) of foods, as low GI foods can help improve insulin resistance and PCOS symptoms. It provides tips to reduce the GI of meals, such as adding beans, pulses, or extra vegetables, balancing meals with lean proteins and healthy fats, and choosing whole-grain options.\n",
      "\n",
      "Additionally, the document suggests that specific diets, such as low-carbohydrate or very low-carbohydrate (ketogenic) diets, can be effective in improving insulin resistance and PCOS symptoms. Fasting\n"
     ]
    }
   ]
  },
  {
   "cell_type": "code",
   "source": [
    "query = \"Give description of the company's financial perfomance?\"\n",
    "answer = generate_answer_with_rag(query, similarity_graph, np.array(embeddings))\n",
    "print(\"Query:\", query)\n",
    "print(\"Answer:\", answer)\n"
   ],
   "metadata": {
    "id": "V0Mvw1n4nmNC",
    "outputId": "0d87e4ac-3964-40a9-a133-ea78079e3634",
    "colab": {
     "base_uri": "https://localhost:8080/"
    }
   },
   "execution_count": 56,
   "outputs": [
    {
     "output_type": "stream",
     "name": "stdout",
     "text": [
      "Query: Give description of the company's financial perfomance?\n",
      "Answer: The text provided does not contain any information about a company's financial performance. It is a dietary advice leaflet for women with Polycystic Ovary Syndrome (PCOS), which is a common disorder affecting ovarian function in pre-menopausal women. The leaflet offers guidance on managing PCOS symptoms through diet and lifestyle changes, such as losing weight, controlling carbohydrate intake, and improving insulin resistance. It also provides information on the Glycaemic Index, portion sizes, and recommended foods to help women with PCOS make healthier choices.\n"
     ]
    }
   ]
  },
  {
   "cell_type": "code",
   "source": [
    "query = \"Company's initiatives towards supporting the communities?\"\n",
    "answer = generate_answer_with_rag(query, similarity_graph, np.array(embeddings))\n",
    "print(\"Query:\", query)\n",
    "print(\"Answer:\", answer)"
   ],
   "metadata": {
    "id": "qiJLK9rRo28s",
    "outputId": "c8a2037d-26cf-4163-e0a8-0b1b3bceee8d",
    "colab": {
     "base_uri": "https://localhost:8080/"
    }
   },
   "execution_count": 57,
   "outputs": [
    {
     "output_type": "stream",
     "name": "stdout",
     "text": [
      "Query: Company's initiatives towards supporting the communities?\n",
      "Answer: It looks like the text you provided does not contain any information about a company's initiatives to support the community. The text is a leaflet about Polycystic Ovary Syndrome (PCOS) and provides dietary and lifestyle advice for managing PCOS symptoms. It includes information about the condition, its symptoms, and the importance of maintaining a healthy weight through sustainable dietary changes. The leaflet also offers tips for improving insulin resistance, sleeping well, and managing carbohydrate cravings and emotional eating. It suggests seeking support through cognitive behavioral therapy or medications and provides a list of helpful resources, including books, websites, and a local service called Talking Therapies.\n"
     ]
    }
   ]
  },
  {
   "cell_type": "code",
   "source": [
    "query = \"What is the Company's share price in March 2024?\"\n",
    "answer = generate_answer_with_rag(query, similarity_graph, np.array(embeddings))\n",
    "print(\"Query:\", query)\n",
    "print(\"Answer:\", answer)"
   ],
   "metadata": {
    "id": "wiQvGUcNp1uk",
    "outputId": "48a6910b-5c08-4076-cf81-c517e88654e7",
    "colab": {
     "base_uri": "https://localhost:8080/"
    }
   },
   "execution_count": 58,
   "outputs": [
    {
     "output_type": "stream",
     "name": "stdout",
     "text": [
      "Query: What is the Company's share price in March 2024?\n",
      "Answer: I'm sorry, but I cannot answer that question. The text provided does not contain information about a company's share price in March 2024. The text is a leaflet from the Berkshire Healthcare NHS Foundation Trust that provides dietary and lifestyle advice for managing the symptoms of Polycystic Ovary Syndrome (PCOS).\n"
     ]
    }
   ]
  },
  {
   "cell_type": "code",
   "source": [
    "#cell 32\n",
    "def visualize_graph_and_create_mapping(graph, chunks, output_file_path):\n",
    "    \"\"\"\n",
    "    Visualize the graph with indices as node labels and save a mapping of indices to text chunks.\n",
    "\n",
    "    Parameters:\n",
    "        graph (nx.Graph): The similarity graph.\n",
    "        chunks (list): List of text chunks.\n",
    "        output_file_path (str): Path to save the index-to-chunk mapping as a text file.\n",
    "    \"\"\"\n",
    "    # Visualize the graph with indices as labels\n",
    "    pos = nx.spring_layout(graph)\n",
    "    plt.figure(figsize=(10, 8))\n",
    "    nx.draw(graph, pos, with_labels=True, node_color='lightblue', font_size=10, node_size=500)\n",
    "    plt.title(\"Similarity Graph with Indices\")\n",
    "    plt.show()\n",
    "\n",
    "    # Save the mapping of indices to text chunks\n",
    "    with open(output_file_path, 'w') as file:\n",
    "        for i, chunk in enumerate(chunks):\n",
    "            file.write(f\"Index {i}: {chunk}\\n\")\n",
    "\n",
    "# File path to save the mapping\n",
    "output_file_path = '/content/index_to_chunk_mapping.txt'\n",
    "\n",
    "# Assuming `similarity_graph` is your graph and `chunks` is the list of text chunks\n",
    "visualize_graph_and_create_mapping(similarity_graph, chunks, output_file_path)\n",
    "\n",
    "# Output the file path to verify where the mapping is saved\n",
    "output_file_path\n"
   ],
   "metadata": {
    "id": "on0smJQtgFaT",
    "outputId": "84d1c731-7391-4dc6-b58e-897dd9d07e9a",
    "colab": {
     "base_uri": "https://localhost:8080/",
     "height": 877
    }
   },
   "execution_count": 59,
   "outputs": [
    {
     "output_type": "display_data",
     "data": {
      "text/plain": [
       "<Figure size 1000x800 with 1 Axes>"
      ],
      "image/png": "[encoded data removed]"
     },
     "metadata": {}
    },
    {
     "output_type": "execute_result",
     "data": {
      "text/plain": [
       "'/content/index_to_chunk_mapping.txt'"
      ],
      "application/vnd.google.colaboratory.intrinsic+json": {
       "type": "string"
      }
     },
     "metadata": {},
     "execution_count": 59
    }
   ]
  }
 ]
}
